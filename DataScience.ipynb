{
 "cells": [
  {
   "cell_type": "markdown",
   "id": "62f5a9bd-78ff-4ea5-98c9-d5d8ad20c4e4",
   "metadata": {},
   "source": [
    "# <b>1. Probability Formula<b>\n",
    "Probability measures the likelihood of an event occurring. It is given by:\n",
    "        \n",
    "## $𝑃(𝐴)$=Number of favorable outcomes $/$ Total number of possible outcomes\n",
    "\n",
    "Where:\n",
    "* P(A) is the probability of event A occurring.\n",
    "* Favorable outcomes refer to outcomes where A happens.\n",
    "* Total possible outcomes refer to all outcomes in the sample space."
   ]
  },
  {
   "cell_type": "markdown",
   "id": "b83f9ffe-e138-4deb-b515-f59eb5e94803",
   "metadata": {},
   "source": [
    "# 2. Probability in Python\n",
    "Let's consider an example where we roll a fair six-sided die and compute the probability of getting a number greater than 4."
   ]
  },
  {
   "cell_type": "code",
   "execution_count": 4,
   "id": "5107c8db-646a-4752-82ae-7b5c7c2ef94d",
   "metadata": {},
   "outputs": [
    {
     "name": "stdout",
     "output_type": "stream",
     "text": [
      "Probability of rolling a number greater than 4: 0.33\n",
      "Simulated Probability: 0.34\n"
     ]
    }
   ],
   "source": [
    "import random\n",
    "\n",
    "# Define sample space\n",
    "sample_space = [1, 2, 3, 4, 5, 6]\n",
    "\n",
    "# Define favorable outcomes (rolling 5 or 6)\n",
    "favorable_outcomes = [5, 6,]\n",
    "\n",
    "# Compute probability\n",
    "probability = len(favorable_outcomes) / len(sample_space)\n",
    "print(f\"Probability of rolling a number greater than 4: {probability:.2f}\")\n",
    "\n",
    "# Simulate 10000 dice rolls to verify\n",
    "simulations = 10000\n",
    "success = sum(1 for _ in range(simulations) if random.choice(sample_space) > 4)\n",
    "simulated_probability = success / simulations\n",
    "\n",
    "print(f\"Simulated Probability: {simulated_probability:.2f}\")\n"
   ]
  },
  {
   "cell_type": "markdown",
   "id": "75f4dc14-e5ac-43d1-8a26-51643f171e94",
   "metadata": {},
   "source": [
    "## 3. Computing Expected Values\n",
    "The expected value (EV) of a random variable $X$ is the weighted average of all possible values, using their probabilities:\n",
    "<br>$E(X)=∑xiP(xi)$\n",
    "<br>Example: \n",
    "<br>A dice roll where the outcomes (1-6) have equal probabilities.\n"
   ]
  },
  {
   "cell_type": "code",
   "execution_count": 5,
   "id": "8594ac35-cd66-43ce-8ed7-1b967786834c",
   "metadata": {},
   "outputs": [
    {
     "name": "stdout",
     "output_type": "stream",
     "text": [
      "Expected Value of a fair dice roll: 3.50\n"
     ]
    }
   ],
   "source": [
    "# Define outcomes and their probabilities\n",
    "outcomes = [1, 2, 3, 4, 5, 6]\n",
    "probabilities = [1/6] * 6  # Fair dice\n",
    "\n",
    "# Compute expected value\n",
    "expected_value = sum(outcome * prob for outcome, prob in zip(outcomes, probabilities))\n",
    "print(f\"Expected Value of a fair dice roll: {expected_value:.2f}\")\n"
   ]
  },
  {
   "cell_type": "markdown",
   "id": "1ddfd6b4-a8af-42ec-bc9f-fac857527c19",
   "metadata": {},
   "source": [
    "# 4. Probability Frequency\n",
    "The relative frequency of an event occurring is:\n",
    "<br>Relative Frequency = Number of times event occurs$/$Total trials\n",
    "Example: \n",
    "<br>Simulating coin tosses."
   ]
  },
  {
   "cell_type": "code",
   "execution_count": 6,
   "id": "b13da621-fe45-4036-ab94-0cdae7370a0f",
   "metadata": {},
   "outputs": [
    {
     "name": "stdout",
     "output_type": "stream",
     "text": [
      "Heads: 494 times, Frequency: 0.49\n",
      "Tails: 506 times, Frequency: 0.51\n"
     ]
    }
   ],
   "source": [
    "import random\n",
    "\n",
    "# Simulating coin tosses\n",
    "def coin_toss(n):\n",
    "    outcomes = {\"Heads\": 0, \"Tails\": 0}\n",
    "    for _ in range(n):\n",
    "        outcome = random.choice([\"Heads\", \"Tails\"])\n",
    "        outcomes[outcome] += 1\n",
    "    return outcomes\n",
    "\n",
    "# Perform 1000 coin tosses\n",
    "trials = 1000\n",
    "results = coin_toss(trials)\n",
    "\n",
    "# Compute frequency\n",
    "for outcome, count in results.items():\n",
    "    print(f\"{outcome}: {count} times, Frequency: {count/trials:.2f}\")\n"
   ]
  },
  {
   "cell_type": "markdown",
   "id": "ffe8851a-801b-4974-9ed4-f8764084755f",
   "metadata": {},
   "source": [
    "# 5. Probability of Events and Their Complements\n",
    "The complement of an event $A$ (denoted as $A$′) includes all outcomes where $A$ does not happen.\n",
    "<br>$𝑃(𝐴′)=1−𝑃(𝐴)$\n",
    "<br>Python Code\n",
    "<br>Example: \n",
    "<br>Probability of not rolling a 6 in a fair dice roll."
   ]
  },
  {
   "cell_type": "code",
   "execution_count": 7,
   "id": "036276d7-e4ae-4d05-8764-65b35803e4b5",
   "metadata": {},
   "outputs": [
    {
     "name": "stdout",
     "output_type": "stream",
     "text": [
      "Probability of NOT rolling a 6: 0.83\n"
     ]
    }
   ],
   "source": [
    "# Probability of rolling a 6\n",
    "p_six = 1/6\n",
    "\n",
    "# Probability of NOT rolling a 6 (complement)\n",
    "p_not_six = 1 - p_six\n",
    "\n",
    "print(f\"Probability of NOT rolling a 6: {p_not_six:.2f}\")\n"
   ]
  },
  {
   "cell_type": "markdown",
   "id": "10f512e0-835c-4098-98a0-472a66ff2520",
   "metadata": {},
   "source": []
  },
  {
   "cell_type": "code",
   "execution_count": null,
   "id": "6d3d41d3-94ce-4807-b893-70c81e67bfbd",
   "metadata": {},
   "outputs": [],
   "source": []
  }
 ],
 "metadata": {
  "kernelspec": {
   "display_name": "Python 3 (ipykernel)",
   "language": "python",
   "name": "python3"
  },
  "language_info": {
   "codemirror_mode": {
    "name": "ipython",
    "version": 3
   },
   "file_extension": ".py",
   "mimetype": "text/x-python",
   "name": "python",
   "nbconvert_exporter": "python",
   "pygments_lexer": "ipython3",
   "version": "3.12.4"
  }
 },
 "nbformat": 4,
 "nbformat_minor": 5
}
